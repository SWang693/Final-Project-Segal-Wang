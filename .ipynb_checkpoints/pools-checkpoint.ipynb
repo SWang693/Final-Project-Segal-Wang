{
 "cells": [
  {
   "cell_type": "markdown",
   "metadata": {},
   "source": [
    "# Submetric - Pools\n",
    "\n",
    "Getting wet is one of the most fun things you can do during the summer, especially with how hot it can get in Pittsburgh during the summer. Luckily, Allegheny County is equipped with many community swimming pools and sprayparks. Using a dataset on the locations of these recreational water features, I will develop a metric for determining the best neighborhood in Pittsbugh for pools."
   ]
  },
  {
   "cell_type": "markdown",
   "metadata": {},
   "source": [
    "## Metric\n",
    "\n",
    "There is not much data available to us on pools in Allegheny County other than their locations and whether they are a swimming pool or a spray park. So, our metric will be based on the number of these features in each neighborhood, valuing sprayparks higher as they are rarer."
   ]
  },
  {
   "cell_type": "markdown",
   "metadata": {},
   "source": [
    "## Analysis"
   ]
  },
  {
   "cell_type": "markdown",
   "metadata": {},
   "source": [
    "First we import pandas and import our data."
   ]
  },
  {
   "cell_type": "code",
   "execution_count": 17,
   "metadata": {},
   "outputs": [
    {
     "data": {
      "text/html": [
       "<div>\n",
       "<style scoped>\n",
       "    .dataframe tbody tr th:only-of-type {\n",
       "        vertical-align: middle;\n",
       "    }\n",
       "\n",
       "    .dataframe tbody tr th {\n",
       "        vertical-align: top;\n",
       "    }\n",
       "\n",
       "    .dataframe thead th {\n",
       "        text-align: right;\n",
       "    }\n",
       "</style>\n",
       "<table border=\"1\" class=\"dataframe\">\n",
       "  <thead>\n",
       "    <tr style=\"text-align: right;\">\n",
       "      <th></th>\n",
       "      <th>id</th>\n",
       "      <th>name</th>\n",
       "      <th>type</th>\n",
       "      <th>retired</th>\n",
       "      <th>water_source</th>\n",
       "      <th>capacity</th>\n",
       "      <th>image</th>\n",
       "      <th>neighborhood</th>\n",
       "      <th>council_district</th>\n",
       "      <th>ward</th>\n",
       "      <th>tract</th>\n",
       "      <th>public_works_division</th>\n",
       "      <th>pli_division</th>\n",
       "      <th>police_zone</th>\n",
       "      <th>fire_zone</th>\n",
       "      <th>latitude</th>\n",
       "      <th>longitude</th>\n",
       "    </tr>\n",
       "  </thead>\n",
       "  <tbody>\n",
       "    <tr>\n",
       "      <th>18</th>\n",
       "      <td>43656340</td>\n",
       "      <td>Ream</td>\n",
       "      <td>Pool</td>\n",
       "      <td>NaN</td>\n",
       "      <td>Pittsburgh Water and Sewer Authority</td>\n",
       "      <td>356000.0</td>\n",
       "      <td>https://tools.wprdc.org/images/pittsburgh/pool...</td>\n",
       "      <td>Mount Washington</td>\n",
       "      <td>2</td>\n",
       "      <td>19</td>\n",
       "      <td>42003190300</td>\n",
       "      <td>5</td>\n",
       "      <td>19</td>\n",
       "      <td>3</td>\n",
       "      <td>4-27</td>\n",
       "      <td>40.430836</td>\n",
       "      <td>-80.013115</td>\n",
       "    </tr>\n",
       "    <tr>\n",
       "      <th>0</th>\n",
       "      <td>899591542</td>\n",
       "      <td>Ammon</td>\n",
       "      <td>Pool</td>\n",
       "      <td>NaN</td>\n",
       "      <td>Pittsburgh Water and Sewer Authority</td>\n",
       "      <td>538000.0</td>\n",
       "      <td>https://tools.wprdc.org/images/pittsburgh/pool...</td>\n",
       "      <td>Bedford Dwellings</td>\n",
       "      <td>6</td>\n",
       "      <td>5</td>\n",
       "      <td>42003050900</td>\n",
       "      <td>3</td>\n",
       "      <td>5</td>\n",
       "      <td>2</td>\n",
       "      <td>2-5</td>\n",
       "      <td>40.448728</td>\n",
       "      <td>-79.978329</td>\n",
       "    </tr>\n",
       "    <tr>\n",
       "      <th>19</th>\n",
       "      <td>1747129029</td>\n",
       "      <td>Riverview</td>\n",
       "      <td>Pool</td>\n",
       "      <td>NaN</td>\n",
       "      <td>Pittsburgh Water and Sewer Authority</td>\n",
       "      <td>205800.0</td>\n",
       "      <td>https://tools.wprdc.org/images/pittsburgh/pool...</td>\n",
       "      <td>Perry North</td>\n",
       "      <td>1</td>\n",
       "      <td>26</td>\n",
       "      <td>42003980400</td>\n",
       "      <td>1</td>\n",
       "      <td>26</td>\n",
       "      <td>1</td>\n",
       "      <td>1-15</td>\n",
       "      <td>40.479697</td>\n",
       "      <td>-80.018444</td>\n",
       "    </tr>\n",
       "    <tr>\n",
       "      <th>8</th>\n",
       "      <td>5446687</td>\n",
       "      <td>Highland - Main</td>\n",
       "      <td>Pool</td>\n",
       "      <td>NaN</td>\n",
       "      <td>Pittsburgh Water and Sewer Authority</td>\n",
       "      <td>560242.0</td>\n",
       "      <td>https://tools.wprdc.org/images/pittsburgh/pool...</td>\n",
       "      <td>Highland Park</td>\n",
       "      <td>7</td>\n",
       "      <td>11</td>\n",
       "      <td>42003980100</td>\n",
       "      <td>2</td>\n",
       "      <td>11</td>\n",
       "      <td>5</td>\n",
       "      <td>3-9</td>\n",
       "      <td>40.482178</td>\n",
       "      <td>-79.910931</td>\n",
       "    </tr>\n",
       "    <tr>\n",
       "      <th>1</th>\n",
       "      <td>1003800828</td>\n",
       "      <td>Banksville</td>\n",
       "      <td>Pool</td>\n",
       "      <td>NaN</td>\n",
       "      <td>Pennsylvania American Water</td>\n",
       "      <td>166320.0</td>\n",
       "      <td>https://tools.wprdc.org/images/pittsburgh/pool...</td>\n",
       "      <td>Banksville</td>\n",
       "      <td>2</td>\n",
       "      <td>20</td>\n",
       "      <td>42003202300</td>\n",
       "      <td>5</td>\n",
       "      <td>20</td>\n",
       "      <td>6</td>\n",
       "      <td>4-9</td>\n",
       "      <td>40.414766</td>\n",
       "      <td>-80.040555</td>\n",
       "    </tr>\n",
       "  </tbody>\n",
       "</table>\n",
       "</div>"
      ],
      "text/plain": [
       "            id             name  type  retired  \\\n",
       "18    43656340             Ream  Pool      NaN   \n",
       "0    899591542            Ammon  Pool      NaN   \n",
       "19  1747129029        Riverview  Pool      NaN   \n",
       "8      5446687  Highland - Main  Pool      NaN   \n",
       "1   1003800828       Banksville  Pool      NaN   \n",
       "\n",
       "                            water_source  capacity  \\\n",
       "18  Pittsburgh Water and Sewer Authority  356000.0   \n",
       "0   Pittsburgh Water and Sewer Authority  538000.0   \n",
       "19  Pittsburgh Water and Sewer Authority  205800.0   \n",
       "8   Pittsburgh Water and Sewer Authority  560242.0   \n",
       "1            Pennsylvania American Water  166320.0   \n",
       "\n",
       "                                                image       neighborhood  \\\n",
       "18  https://tools.wprdc.org/images/pittsburgh/pool...   Mount Washington   \n",
       "0   https://tools.wprdc.org/images/pittsburgh/pool...  Bedford Dwellings   \n",
       "19  https://tools.wprdc.org/images/pittsburgh/pool...        Perry North   \n",
       "8   https://tools.wprdc.org/images/pittsburgh/pool...      Highland Park   \n",
       "1   https://tools.wprdc.org/images/pittsburgh/pool...         Banksville   \n",
       "\n",
       "    council_district  ward        tract  public_works_division  pli_division  \\\n",
       "18                 2    19  42003190300                      5            19   \n",
       "0                  6     5  42003050900                      3             5   \n",
       "19                 1    26  42003980400                      1            26   \n",
       "8                  7    11  42003980100                      2            11   \n",
       "1                  2    20  42003202300                      5            20   \n",
       "\n",
       "    police_zone fire_zone   latitude  longitude  \n",
       "18            3      4-27  40.430836 -80.013115  \n",
       "0             2       2-5  40.448728 -79.978329  \n",
       "19            1      1-15  40.479697 -80.018444  \n",
       "8             5       3-9  40.482178 -79.910931  \n",
       "1             6       4-9  40.414766 -80.040555  "
      ]
     },
     "execution_count": 17,
     "metadata": {},
     "output_type": "execute_result"
    }
   ],
   "source": [
    "import pandas as pd \n",
    "import geopandas as gp\n",
    "\n",
    "# import dataset\n",
    "pools = pd.read_csv(\"pools.csv\")\n",
    "pools.sample(5)"
   ]
  },
  {
   "cell_type": "markdown",
   "metadata": {},
   "source": [
    "Next we strip down our data."
   ]
  },
  {
   "cell_type": "code",
   "execution_count": 21,
   "metadata": {},
   "outputs": [
    {
     "data": {
      "text/html": [
       "<div>\n",
       "<style scoped>\n",
       "    .dataframe tbody tr th:only-of-type {\n",
       "        vertical-align: middle;\n",
       "    }\n",
       "\n",
       "    .dataframe tbody tr th {\n",
       "        vertical-align: top;\n",
       "    }\n",
       "\n",
       "    .dataframe thead th {\n",
       "        text-align: right;\n",
       "    }\n",
       "</style>\n",
       "<table border=\"1\" class=\"dataframe\">\n",
       "  <thead>\n",
       "    <tr style=\"text-align: right;\">\n",
       "      <th></th>\n",
       "      <th>neighborhood</th>\n",
       "      <th>name</th>\n",
       "      <th>type</th>\n",
       "    </tr>\n",
       "  </thead>\n",
       "  <tbody>\n",
       "    <tr>\n",
       "      <th>15</th>\n",
       "      <td>South Side Flats</td>\n",
       "      <td>Oliver</td>\n",
       "      <td>Pool</td>\n",
       "    </tr>\n",
       "    <tr>\n",
       "      <th>22</th>\n",
       "      <td>Allegheny Center</td>\n",
       "      <td>Sue Murray</td>\n",
       "      <td>Pool</td>\n",
       "    </tr>\n",
       "    <tr>\n",
       "      <th>27</th>\n",
       "      <td>Lincoln-Lemington-Belmar</td>\n",
       "      <td>Paulson</td>\n",
       "      <td>Spray Park</td>\n",
       "    </tr>\n",
       "    <tr>\n",
       "      <th>5</th>\n",
       "      <td>Troy Hill</td>\n",
       "      <td>Cowley Spray Park</td>\n",
       "      <td>Spray Park</td>\n",
       "    </tr>\n",
       "    <tr>\n",
       "      <th>20</th>\n",
       "      <td>Squirrel Hill South</td>\n",
       "      <td>Schenley</td>\n",
       "      <td>Pool</td>\n",
       "    </tr>\n",
       "  </tbody>\n",
       "</table>\n",
       "</div>"
      ],
      "text/plain": [
       "                neighborhood               name        type\n",
       "15          South Side Flats             Oliver        Pool\n",
       "22          Allegheny Center         Sue Murray        Pool\n",
       "27  Lincoln-Lemington-Belmar            Paulson  Spray Park\n",
       "5                  Troy Hill  Cowley Spray Park  Spray Park\n",
       "20       Squirrel Hill South           Schenley        Pool"
      ]
     },
     "execution_count": 21,
     "metadata": {},
     "output_type": "execute_result"
    }
   ],
   "source": [
    "pools = pools[['neighborhood','name','type']]\n",
    "pools.sample(5)"
   ]
  },
  {
   "cell_type": "markdown",
   "metadata": {},
   "source": [
    "Then we split our data into pools and spray parks."
   ]
  },
  {
   "cell_type": "code",
   "execution_count": 22,
   "metadata": {},
   "outputs": [],
   "source": [
    "# split data into pools and sprayparks\n",
    "sprayparks = pools.loc[pools['type'] == \"Spray Park\"]\n",
    "pools = pools.loc[pools['type'] == \"Pool\"]"
   ]
  },
  {
   "cell_type": "code",
   "execution_count": 25,
   "metadata": {},
   "outputs": [
    {
     "data": {
      "text/html": [
       "<div>\n",
       "<style scoped>\n",
       "    .dataframe tbody tr th:only-of-type {\n",
       "        vertical-align: middle;\n",
       "    }\n",
       "\n",
       "    .dataframe tbody tr th {\n",
       "        vertical-align: top;\n",
       "    }\n",
       "\n",
       "    .dataframe thead th {\n",
       "        text-align: right;\n",
       "    }\n",
       "</style>\n",
       "<table border=\"1\" class=\"dataframe\">\n",
       "  <thead>\n",
       "    <tr style=\"text-align: right;\">\n",
       "      <th></th>\n",
       "      <th>neighborhood</th>\n",
       "      <th>name</th>\n",
       "      <th>type</th>\n",
       "    </tr>\n",
       "  </thead>\n",
       "  <tbody>\n",
       "    <tr>\n",
       "      <th>0</th>\n",
       "      <td>Bedford Dwellings</td>\n",
       "      <td>Ammon</td>\n",
       "      <td>Pool</td>\n",
       "    </tr>\n",
       "    <tr>\n",
       "      <th>1</th>\n",
       "      <td>Banksville</td>\n",
       "      <td>Banksville</td>\n",
       "      <td>Pool</td>\n",
       "    </tr>\n",
       "    <tr>\n",
       "      <th>3</th>\n",
       "      <td>Bloomfield</td>\n",
       "      <td>Bloomfield</td>\n",
       "      <td>Pool</td>\n",
       "    </tr>\n",
       "    <tr>\n",
       "      <th>7</th>\n",
       "      <td>Highland Park</td>\n",
       "      <td>Highland - Children</td>\n",
       "      <td>Pool</td>\n",
       "    </tr>\n",
       "    <tr>\n",
       "      <th>8</th>\n",
       "      <td>Highland Park</td>\n",
       "      <td>Highland - Main</td>\n",
       "      <td>Pool</td>\n",
       "    </tr>\n",
       "  </tbody>\n",
       "</table>\n",
       "</div>"
      ],
      "text/plain": [
       "        neighborhood                 name  type\n",
       "0  Bedford Dwellings                Ammon  Pool\n",
       "1         Banksville           Banksville  Pool\n",
       "3         Bloomfield           Bloomfield  Pool\n",
       "7      Highland Park  Highland - Children  Pool\n",
       "8      Highland Park      Highland - Main  Pool"
      ]
     },
     "execution_count": 25,
     "metadata": {},
     "output_type": "execute_result"
    }
   ],
   "source": [
    "pools.head(5)"
   ]
  },
  {
   "cell_type": "code",
   "execution_count": 24,
   "metadata": {},
   "outputs": [
    {
     "data": {
      "text/html": [
       "<div>\n",
       "<style scoped>\n",
       "    .dataframe tbody tr th:only-of-type {\n",
       "        vertical-align: middle;\n",
       "    }\n",
       "\n",
       "    .dataframe tbody tr th {\n",
       "        vertical-align: top;\n",
       "    }\n",
       "\n",
       "    .dataframe thead th {\n",
       "        text-align: right;\n",
       "    }\n",
       "</style>\n",
       "<table border=\"1\" class=\"dataframe\">\n",
       "  <thead>\n",
       "    <tr style=\"text-align: right;\">\n",
       "      <th></th>\n",
       "      <th>neighborhood</th>\n",
       "      <th>name</th>\n",
       "      <th>type</th>\n",
       "    </tr>\n",
       "  </thead>\n",
       "  <tbody>\n",
       "    <tr>\n",
       "      <th>2</th>\n",
       "      <td>Beechview</td>\n",
       "      <td>Beechview Spray Park</td>\n",
       "      <td>Spray Park</td>\n",
       "    </tr>\n",
       "    <tr>\n",
       "      <th>4</th>\n",
       "      <td>Hazelwood</td>\n",
       "      <td>Burgwin Spray Park</td>\n",
       "      <td>Spray Park</td>\n",
       "    </tr>\n",
       "    <tr>\n",
       "      <th>5</th>\n",
       "      <td>Troy Hill</td>\n",
       "      <td>Cowley Spray Park</td>\n",
       "      <td>Spray Park</td>\n",
       "    </tr>\n",
       "    <tr>\n",
       "      <th>6</th>\n",
       "      <td>East Hills</td>\n",
       "      <td>East Hills Spray Park</td>\n",
       "      <td>Spray Park</td>\n",
       "    </tr>\n",
       "    <tr>\n",
       "      <th>13</th>\n",
       "      <td>Shadyside</td>\n",
       "      <td>Mellon Spray Park</td>\n",
       "      <td>Spray Park</td>\n",
       "    </tr>\n",
       "  </tbody>\n",
       "</table>\n",
       "</div>"
      ],
      "text/plain": [
       "   neighborhood                   name        type\n",
       "2     Beechview   Beechview Spray Park  Spray Park\n",
       "4     Hazelwood     Burgwin Spray Park  Spray Park\n",
       "5     Troy Hill      Cowley Spray Park  Spray Park\n",
       "6    East Hills  East Hills Spray Park  Spray Park\n",
       "13    Shadyside      Mellon Spray Park  Spray Park"
      ]
     },
     "execution_count": 24,
     "metadata": {},
     "output_type": "execute_result"
    }
   ],
   "source": [
    "sprayparks.head(5)"
   ]
  },
  {
   "cell_type": "markdown",
   "metadata": {},
   "source": [
    "Now we count the number of pools and spray parks for each neighborhood."
   ]
  },
  {
   "cell_type": "code",
   "execution_count": 30,
   "metadata": {},
   "outputs": [
    {
     "data": {
      "text/plain": [
       "<matplotlib.axes._subplots.AxesSubplot at 0x7f211811c100>"
      ]
     },
     "execution_count": 30,
     "metadata": {},
     "output_type": "execute_result"
    },
    {
     "data": {
      "image/png": "[encoded data removed]",
      "text/plain": [
       "<Figure size 1080x144 with 1 Axes>"
      ]
     },
     "metadata": {
      "needs_background": "light"
     },
     "output_type": "display_data"
    }
   ],
   "source": [
    "num_pools = pools.groupby('neighborhood')['name'].count()\n",
    "num_pools.plot.bar(title=\"Number of Pools for each Neighborhood\", figsize=(15,2))"
   ]
  },
  {
   "cell_type": "code",
   "execution_count": 31,
   "metadata": {},
   "outputs": [
    {
     "data": {
      "text/plain": [
       "<matplotlib.axes._subplots.AxesSubplot at 0x7f21180a6a90>"
      ]
     },
     "execution_count": 31,
     "metadata": {},
     "output_type": "execute_result"
    },
    {
     "data": {
      "image/png": "[encoded data removed]",
      "text/plain": [
       "<Figure size 1080x144 with 1 Axes>"
      ]
     },
     "metadata": {
      "needs_background": "light"
     },
     "output_type": "display_data"
    }
   ],
   "source": [
    "num_sprayparks = sprayparks.groupby('neighborhood')['name'].count()\n",
    "num_sprayparks.plot.bar(title=\"Number of Spray Parks for each Neighborhood\", figsize=(15,2))"
   ]
  },
  {
   "cell_type": "markdown",
   "metadata": {},
   "source": [
    "Finally, we generate our metric. We multiply the number of spray parks by the ratio of pools to spray parks to account for their rareness. "
   ]
  },
  {
   "cell_type": "code",
   "execution_count": 38,
   "metadata": {},
   "outputs": [
    {
     "data": {
      "text/plain": [
       "<matplotlib.axes._subplots.AxesSubplot at 0x7f2118008310>"
      ]
     },
     "execution_count": 38,
     "metadata": {},
     "output_type": "execute_result"
    },
    {
     "data": {
      "image/png": "[encoded data removed]",
      "text/plain": [
       "<Figure size 1080x144 with 1 Axes>"
      ]
     },
     "metadata": {
      "needs_background": "light"
     },
     "output_type": "display_data"
    }
   ],
   "source": [
    "# Valuing spray parks higher in the metric given they are rarer\n",
    "num_sprayparks = num_sprayparks * (len(pools)/len(sprayparks))\n",
    "\n",
    "# The two datasets are concatenated, not merged, because their is no overlap between neighborhoods with pools and neighborhoods with spray parks\n",
    "metric = pd.concat([num_pools, num_sprayparks])\n",
    "\n",
    "metric.plot.bar(title=\"Best Neighborhood for Pools\", figsize=(15,2))"
   ]
  }
 ],
 "metadata": {
  "kernelspec": {
   "display_name": "Python 3",
   "language": "python",
   "name": "python3"
  },
  "language_info": {
   "codemirror_mode": {
    "name": "ipython",
    "version": 3
   },
   "file_extension": ".py",
   "mimetype": "text/x-python",
   "name": "python",
   "nbconvert_exporter": "python",
   "pygments_lexer": "ipython3",
   "version": "3.8.3"
  }
 },
 "nbformat": 4,
 "nbformat_minor": 4
}
